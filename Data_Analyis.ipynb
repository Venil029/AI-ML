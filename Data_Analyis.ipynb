{
 "cells": [
  {
   "cell_type": "markdown",
   "id": "86f370d7-68c1-46da-a457-3f6df3f97698",
   "metadata": {},
   "source": [
    "Loading the liberary and the dataset"
   ]
  },
  {
   "cell_type": "code",
   "execution_count": 45,
   "id": "c74518f7-dd8f-4d35-86e1-af1344b99eea",
   "metadata": {},
   "outputs": [
    {
     "name": "stdout",
     "output_type": "stream",
     "text": [
      "'data.frame':\t100 obs. of  8 variables:\n",
      " $ individual: int  1 2 3 4 5 6 7 8 9 10 ...\n",
      " $ ancestry  : int  1 2 1 1 1 1 1 1 1 2 ...\n",
      " $ risk_score: num  -0.179 4.589 3.432 4.653 4.589 ...\n",
      " $ SNP1      : int  0 0 0 0 0 0 0 0 0 1 ...\n",
      " $ SNP2      : int  0 1 1 1 1 1 1 0 0 1 ...\n",
      " $ SNP3      : int  0 1 0 0 0 0 0 0 0 1 ...\n",
      " $ SNP4      : int  0 1 0 0 0 0 0 0 0 1 ...\n",
      " $ SNP5      : int  0 1 0 0 0 0 0 0 0 1 ...\n"
     ]
    }
   ],
   "source": [
    "library(dplyr)\n",
    "library(data.table)\n",
    "data <- read.csv(\"assignment.5.csv\")\n",
    "str(data)"
   ]
  },
  {
   "cell_type": "code",
   "execution_count": 46,
   "id": "86c00c27-74a9-4bef-bab9-75e30759cbdf",
   "metadata": {},
   "outputs": [
    {
     "data": {
      "text/plain": [
       "   individual        ancestry      risk_score          SNP1           SNP2     \n",
       " Min.   :  1.00   Min.   :1.00   Min.   :-1.814   Min.   :0.00   Min.   :0.00  \n",
       " 1st Qu.: 25.75   1st Qu.:1.00   1st Qu.: 1.708   1st Qu.:0.00   1st Qu.:0.00  \n",
       " Median : 50.50   Median :1.00   Median : 2.997   Median :0.00   Median :0.00  \n",
       " Mean   : 50.50   Mean   :1.42   Mean   : 2.851   Mean   :0.39   Mean   :0.49  \n",
       " 3rd Qu.: 75.25   3rd Qu.:2.00   3rd Qu.: 4.208   3rd Qu.:1.00   3rd Qu.:1.00  \n",
       " Max.   :100.00   Max.   :2.00   Max.   : 6.742   Max.   :1.00   Max.   :1.00  \n",
       "      SNP3          SNP4          SNP5     \n",
       " Min.   :0.0   Min.   :0.0   Min.   :0.00  \n",
       " 1st Qu.:0.0   1st Qu.:0.0   1st Qu.:0.00  \n",
       " Median :0.0   Median :0.0   Median :0.00  \n",
       " Mean   :0.4   Mean   :0.4   Mean   :0.39  \n",
       " 3rd Qu.:1.0   3rd Qu.:1.0   3rd Qu.:1.00  \n",
       " Max.   :1.0   Max.   :1.0   Max.   :1.00  "
      ]
     },
     "metadata": {},
     "output_type": "display_data"
    }
   ],
   "source": [
    "summary(data)"
   ]
  },
  {
   "cell_type": "markdown",
   "id": "0fd9f2f3-6ed3-43fa-86e2-2cb79fa03f3f",
   "metadata": {},
   "source": [
    "Converting variables as factors"
   ]
  },
  {
   "cell_type": "code",
   "execution_count": 47,
   "id": "86590c3f-08f5-4a68-aa1f-89202cec34ff",
   "metadata": {},
   "outputs": [],
   "source": [
    "data$ancestry <- as.factor(data$ancestry)\n",
    "data$SNP1 <- as.factor(data$SNP1)\n",
    "data$SNP2 <- as.factor(data$SNP2)\n",
    "data$SNP3 <- as.factor(data$SNP3)\n",
    "data$SNP4 <- as.factor(data$SNP4)\n",
    "data$SNP5 <- as.factor(data$SNP5)"
   ]
  },
  {
   "cell_type": "markdown",
   "id": "b350adf2-c8d8-4207-84b7-71fc3596e0f0",
   "metadata": {},
   "source": [
    "Calculating mean and Standard deviation"
   ]
  },
  {
   "cell_type": "code",
   "execution_count": 48,
   "id": "b9f42ef6-15f2-448a-873b-b04dc1bc3298",
   "metadata": {},
   "outputs": [
    {
     "name": "stdout",
     "output_type": "stream",
     "text": [
      "   ancestry mean_risk  sd_risk\n",
      "     <fctr>     <num>    <num>\n",
      "1:        1  2.633703 1.818886\n",
      "2:        2  3.151457 1.642112\n"
     ]
    }
   ],
   "source": [
    "library(data.table)\n",
    "setDT(data)\n",
    "summary_stats <- data[, .(mean_risk = mean(risk_score), \n",
    "                          sd_risk = sd(risk_score)), by = ancestry]\n",
    "print(summary_stats)"
   ]
  },
  {
   "cell_type": "markdown",
   "id": "d55c4909-80b4-492b-bf82-679c7303fea1",
   "metadata": {},
   "source": [
    "Calculating the Frequencies of the SNP alleles"
   ]
  },
  {
   "cell_type": "code",
   "execution_count": 49,
   "id": "36850047-1bc6-4467-b236-f8b40498e8f6",
   "metadata": {},
   "outputs": [
    {
     "name": "stdout",
     "output_type": "stream",
     "text": [
      "  SNP1 SNP2 SNP3 SNP4 SNP5\n",
      "1   61   51   60   60   61\n"
     ]
    }
   ],
   "source": [
    "snp_frequencies <- data %>% \n",
    "  select(starts_with(\"SNP\")) %>%\n",
    "  summarise_all(~ table(.)[1])\n",
    "print(snp_frequencies)"
   ]
  },
  {
   "cell_type": "markdown",
   "id": "254134b6-e411-4421-ab31-be7bcc063a3d",
   "metadata": {},
   "source": [
    "Performing ANOVA on all the SNPs"
   ]
  },
  {
   "cell_type": "code",
   "execution_count": 50,
   "id": "921d7f47-a6b9-43da-980e-028ca54b3960",
   "metadata": {},
   "outputs": [
    {
     "data": {
      "text/plain": [
       "            Df Sum Sq Mean Sq F value Pr(>F)\n",
       "SNP1         1   5.33   5.329   1.728  0.192\n",
       "ancestry     1   1.27   1.275   0.414  0.522\n",
       "Residuals   97 299.06   3.083               "
      ]
     },
     "metadata": {},
     "output_type": "display_data"
    },
    {
     "data": {
      "text/plain": [
       "            Df Sum Sq Mean Sq F value   Pr(>F)    \n",
       "SNP2         1 104.67  104.67  55.086 4.44e-11 ***\n",
       "ancestry     1  16.67   16.67   8.774  0.00384 ** \n",
       "Residuals   97 184.32    1.90                     \n",
       "---\n",
       "Signif. codes:  0 '***' 0.001 '**' 0.01 '*' 0.05 '.' 0.1 ' ' 1"
      ]
     },
     "metadata": {},
     "output_type": "display_data"
    },
    {
     "data": {
      "text/plain": [
       "            Df Sum Sq Mean Sq F value Pr(>F)\n",
       "SNP3         1   5.78   5.784   1.876  0.174\n",
       "ancestry     1   0.77   0.774   0.251  0.617\n",
       "Residuals   97 299.11   3.084               "
      ]
     },
     "metadata": {},
     "output_type": "display_data"
    },
    {
     "data": {
      "text/plain": [
       "            Df Sum Sq Mean Sq F value Pr(>F)  \n",
       "SNP4         1   2.43   2.431   0.816 0.3686  \n",
       "ancestry     1  14.14  14.138   4.744 0.0318 *\n",
       "Residuals   97 289.09   2.980                 \n",
       "---\n",
       "Signif. codes:  0 '***' 0.001 '**' 0.01 '*' 0.05 '.' 0.1 ' ' 1"
      ]
     },
     "metadata": {},
     "output_type": "display_data"
    },
    {
     "data": {
      "text/plain": [
       "            Df Sum Sq Mean Sq F value  Pr(>F)   \n",
       "SNP5         1   0.91   0.910   0.314 0.57670   \n",
       "ancestry     1  23.51  23.512   8.109 0.00538 **\n",
       "Residuals   97 281.24   2.899                   \n",
       "---\n",
       "Signif. codes:  0 '***' 0.001 '**' 0.01 '*' 0.05 '.' 0.1 ' ' 1"
      ]
     },
     "metadata": {},
     "output_type": "display_data"
    }
   ],
   "source": [
    "anova_snp1 <- aov(risk_score ~ SNP1 + ancestry, data = data)\n",
    "summary(anova_snp1)\n",
    "\n",
    "anova_snp2 <- aov(risk_score ~ SNP2 + ancestry, data = data)\n",
    "summary(anova_snp2)\n",
    "\n",
    "anova_snp3 <- aov(risk_score ~ SNP3 + ancestry, data = data)\n",
    "summary(anova_snp3)\n",
    "\n",
    "anova_snp4 <- aov(risk_score ~ SNP4 + ancestry, data = data)\n",
    "summary(anova_snp4)\n",
    "\n",
    "anova_snp5 <- aov(risk_score ~ SNP5 + ancestry, data = data)\n",
    "summary(anova_snp5)"
   ]
  },
  {
   "cell_type": "markdown",
   "id": "8fa408dd-2ba2-4451-bca9-22e84b864f4f",
   "metadata": {},
   "source": [
    "Bonferronni Analysis"
   ]
  },
  {
   "cell_type": "code",
   "execution_count": 51,
   "id": "48970b3b-4bc0-4630-98cd-c06f91b7d172",
   "metadata": {},
   "outputs": [
    {
     "name": "stdout",
     "output_type": "stream",
     "text": [
      "        SNP1         SNP2         SNP3         SNP4         SNP5 \n",
      "9.586062e-01 2.221006e-10 8.699611e-01 1.000000e+00 1.000000e+00 \n"
     ]
    }
   ],
   "source": [
    "p_values <- c(\n",
    "  summary(anova_snp1)[[1]][\"Pr(>F)\"][1, 1],\n",
    "  summary(anova_snp2)[[1]][\"Pr(>F)\"][1, 1],\n",
    "  summary(anova_snp3)[[1]][\"Pr(>F)\"][1, 1],\n",
    "  summary(anova_snp4)[[1]][\"Pr(>F)\"][1, 1],\n",
    "  summary(anova_snp5)[[1]][\"Pr(>F)\"][1, 1]\n",
    ")\n",
    "p_adj <- p.adjust(p_values, method = \"bonferroni\")\n",
    "names(p_adj) <- c(\"SNP1\", \"SNP2\", \"SNP3\", \"SNP4\", \"SNP5\")\n",
    "print(p_adj)"
   ]
  },
  {
   "cell_type": "code",
   "execution_count": 52,
   "id": "8d8ac3f7-b919-42be-9a9a-6e7d4c328ec4",
   "metadata": {},
   "outputs": [
    {
     "data": {
      "image/png": "[encoded data removed]",
      "text/plain": [
       "plot without title"
      ]
     },
     "metadata": {
      "image/png": {
       "height": 420,
       "width": 420
      }
     },
     "output_type": "display_data"
    }
   ],
   "source": [
    "library(ggplot2)\n",
    "ggplot(data, aes(x = SNP2, y = risk_score)) + geom_boxplot() + \n",
    "labs(title = \"Risk Score by SNP2 Allele\", x = \"SNP2 Allele\", y = \"Risk Score\")"
   ]
  },
  {
   "cell_type": "markdown",
   "id": "b96518c9-3666-42cd-a8cb-34b31fca8edb",
   "metadata": {},
   "source": [
    "Linear Regresssion Analysis"
   ]
  },
  {
   "cell_type": "code",
   "execution_count": 53,
   "id": "b59eb976-4d7c-4c23-9409-e98bec4efdc1",
   "metadata": {},
   "outputs": [
    {
     "data": {
      "text/plain": [
       "\n",
       "Call:\n",
       "lm(formula = risk_score ~ SNP2 + ancestry, data = data)\n",
       "\n",
       "Residuals:\n",
       "    Min      1Q  Median      3Q     Max \n",
       "-3.2526 -1.0368  0.0683  0.9672  3.3836 \n",
       "\n",
       "Coefficients:\n",
       "            Estimate Std. Error t value Pr(>|t|)    \n",
       "(Intercept)   1.4384     0.2375   6.057 2.64e-08 ***\n",
       "SNP21         2.1664     0.2787   7.773 8.11e-12 ***\n",
       "ancestry2     0.8361     0.2823   2.962  0.00384 ** \n",
       "---\n",
       "Signif. codes:  0 '***' 0.001 '**' 0.01 '*' 0.05 '.' 0.1 ' ' 1\n",
       "\n",
       "Residual standard error: 1.378 on 97 degrees of freedom\n",
       "Multiple R-squared:  0.397,\tAdjusted R-squared:  0.3846 \n",
       "F-statistic: 31.93 on 2 and 97 DF,  p-value: 2.216e-11\n"
      ]
     },
     "metadata": {},
     "output_type": "display_data"
    }
   ],
   "source": [
    "snp2 <- lm(risk_score ~ SNP2 + ancestry, data = data)\n",
    "summary(snp2)"
   ]
  }
 ],
 "metadata": {
  "kernelspec": {
   "display_name": "R",
   "language": "R",
   "name": "ir"
  },
  "language_info": {
   "codemirror_mode": "r",
   "file_extension": ".r",
   "mimetype": "text/x-r-source",
   "name": "R",
   "pygments_lexer": "r",
   "version": "4.3.3"
  }
 },
 "nbformat": 4,
 "nbformat_minor": 5
}
