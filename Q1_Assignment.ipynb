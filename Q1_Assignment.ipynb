{
 "cells": [
  {
   "cell_type": "markdown",
   "id": "394fd8be-9fc2-48e6-a1df-104d487dd3ef",
   "metadata": {},
   "source": [
    " 1.1 Statistical testing- practical\n",
    " 1.2 Problem 1\n",
    " Here are some data from a study looking at the relationship between vaccination and the onset of\n",
    " pneumococcal pneumonia. The owner of a laboratory wants to keep sick leave as low as possible by\n",
    " keeping employees healthy through disease prevention programs. Many employees have contracted\n",
    " pneumonia leading to productivity problems due to sick leave from the disease. There is a vaccine\n",
    " for pneumococcal pneumonia, and the owner believes that it is important to get as many employees\n",
    " vaccinated as possible. Due to a production problem at the company that produces the vaccine,\n",
    " there is only enough vaccine for half the employees. In effect, there are two groups; employees who\n",
    " received the vaccine and employees who did not receive the vaccine. The company sent a nurse\n",
    " to every employee who contracted pneumonia to provide home health care and to take a sputum\n",
    " sample for culture to determine the causative agent. They kept track of the number of employees\n",
    " who contracted pneumonia and whether they had been vaccinated. The data were organized as\n",
    " follows:\n",
    "\n",
    " TASK 1. Input the data into R as a 2x2 matrix. Use the rownames() and colnames() functions\n",
    " to name the columns and rows. You may want to investigate the nrow argument to specify the\n",
    " shape of the matrix.\n",
    "\n",
    " TASK 2. Draw a barplot of the data using the barplot() function. Include a legend. Use the\n",
    " barplot help to work out how to do this\n",
    "\n",
    " TASK 3 Carry out a 𝜒2 test for independence of data. Answer these questions:\n",
    " • What is the null hypothesis?\n",
    " • What are the assumptions?\n",
    " • What does it tell you?\n",
    " TASK 4. Write a full reporting statement for the result obtained in this test"
   ]
  },
  {
   "cell_type": "code",
   "execution_count": 16,
   "id": "6f7970ac-a26b-4c4d-92f8-9f2231a320f4",
   "metadata": {},
   "outputs": [
    {
     "name": "stdout",
     "output_type": "stream",
     "text": [
      "                    Vaccinated Unvaccinated\n",
      "Not sick                    73           27\n",
      "Sick with pneumonia         54           46\n"
     ]
    }
   ],
   "source": [
    "data <- c(73, 27, 54, 46)\n",
    "pneumonia_matrix <- matrix(data, nrow = 2, byrow = TRUE)\n",
    "rownames(pneumonia_matrix) <- c(\"Not sick\", \"Sick with pneumonia\")\n",
    "colnames(pneumonia_matrix) <- c(\"Vaccinated\", \"Unvaccinated\")\n",
    "print(pneumonia_matrix)"
   ]
  },
  {
   "cell_type": "code",
   "execution_count": 17,
   "id": "066cf076-d83b-4f91-a711-3e6272db736f",
   "metadata": {},
   "outputs": [
    {
     "data": {
      "image/png": "[encoded data removed]",
      "text/plain": [
       "Plot with title \"Pneumonia Cases by Vaccination Status\""
      ]
     },
     "metadata": {
      "image/png": {
       "height": 420,
       "width": 420
      }
     },
     "output_type": "display_data"
    }
   ],
   "source": [
    "barplot(pneumonia_matrix,beside = TRUE,col = c(\"skyblue\", \"red\"), \n",
    "main = \"Pneumonia Cases by Vaccination Status\",xlab = \"Vaccination Status\",\n",
    "        ylab = \"Number of Employees\", \n",
    "legend.text = rownames(pneumonia_matrix),\n",
    "        args.legend = list(x = \"topright\", inset = 0.05))"
   ]
  },
  {
   "cell_type": "code",
   "execution_count": 18,
   "id": "916970a1-897b-4e45-97cf-005a0c6bb76a",
   "metadata": {},
   "outputs": [
    {
     "data": {
      "text/plain": [
       "\n",
       "\tPearson's Chi-squared test with Yates' continuity correction\n",
       "\n",
       "data:  pneumonia_matrix\n",
       "X-squared = 6.9895, df = 1, p-value = 0.008199\n"
      ]
     },
     "metadata": {},
     "output_type": "display_data"
    }
   ],
   "source": [
    "chisq.test(pneumonia_matrix)"
   ]
  },
  {
   "cell_type": "raw",
   "id": "f7cb5e48-bd10-44e6-bdbd-acc126732db7",
   "metadata": {},
   "source": [
    "1) Null Hypothesis States that Vaccination and Occurence of pneunomia is independent"
   ]
  },
  {
   "cell_type": "raw",
   "id": "3c086f18-982d-41d9-b4c1-6e3574980387",
   "metadata": {},
   "source": [
    "2) Chi-Square Assumptions:\n",
    "a. Each individual is counted only once in a data and groups are independent.\n",
    "b. All expected cell frequencies should be at least 5."
   ]
  },
  {
   "cell_type": "raw",
   "id": "650a7273-cb0b-46ef-9550-2038671a49bb",
   "metadata": {},
   "source": [
    "3) What does it tell you?\n",
    "Here, the p-value is 0.008199 which is less than 0.05, \n",
    "So we reject the null hypothesis meaning that vaccination status\n",
    "which affects the likelihood of contracting pneumonia."
   ]
  },
  {
   "cell_type": "markdown",
   "id": "8d664c41-3ae9-4e00-b344-e6e0bcd1af56",
   "metadata": {},
   "source": [
    "Now i want to extend this using Relative Risk Approch"
   ]
  },
  {
   "cell_type": "code",
   "execution_count": 19,
   "id": "b5143fdc-1ab4-46fa-b21a-cbe0f2d85763",
   "metadata": {},
   "outputs": [
    {
     "name": "stdout",
     "output_type": "stream",
     "text": [
      "Risk (Vaccinated): 0.4251969 \n",
      "Risk (Unvaccinated): 0.630137 \n",
      "Relative Risk: 0.6747689 \n"
     ]
    }
   ],
   "source": [
    "risk_vaccinated <- pneumonia_matrix[\"Sick with pneumonia\", \"Vaccinated\"] / \n",
    "sum(pneumonia_matrix[, \"Vaccinated\"])\n",
    "risk_unvaccinated <- pneumonia_matrix[\"Sick with pneumonia\", \"Unvaccinated\"] / \n",
    "sum(pneumonia_matrix[,\"Unvaccinated\"])\n",
    "\n",
    "relative_risk <- risk_vaccinated / risk_unvaccinated\n",
    "\n",
    "cat(\"Risk (Vaccinated):\", risk_vaccinated, \"\\n\")\n",
    "cat(\"Risk (Unvaccinated):\", risk_unvaccinated, \"\\n\")\n",
    "cat(\"Relative Risk:\", relative_risk, \"\\n\")"
   ]
  },
  {
   "cell_type": "code",
   "execution_count": 20,
   "id": "666fe5ef-dd50-4a38-8735-f3b9fd8dc904",
   "metadata": {},
   "outputs": [
    {
     "data": {
      "image/png": "[encoded data removed]",
      "text/plain": [
       "Plot with title \"Risk of Pneumonia by Vaccination Status\""
      ]
     },
     "metadata": {
      "image/png": {
       "height": 420,
       "width": 420
      }
     },
     "output_type": "display_data"
    }
   ],
   "source": [
    "barplot(c(risk_vaccinated, risk_unvaccinated), \n",
    "        main = \"Risk of Pneumonia by Vaccination Status\", \n",
    "        ylab = \"Risk of Pneumonia\", \n",
    "        col = c(\"skyblue\", \"red\"), \n",
    "        ylim = c(0, 1), \n",
    "        beside = TRUE,\n",
    "        names.arg = c(\"Vaccinated\", \"Unvaccinated\"))\n",
    "\n",
    "text(x = seq_along(c(risk_vaccinated, risk_unvaccinated)), \n",
    "     y = c(risk_vaccinated, risk_unvaccinated), \n",
    "     labels = round(c(risk_vaccinated, risk_unvaccinated), 3), \n",
    "     pos = 3, cex = 1.2)\n",
    "\n",
    "legend(\"topright\", legend = c(\"Vaccinated\", \"Unvaccinated\"),\n",
    "       fill = c(\"skyblue\", \"red\"))"
   ]
  },
  {
   "cell_type": "markdown",
   "id": "efbb35da-2fb3-4800-9f01-f976085bf66e",
   "metadata": {},
   "source": [
    "Null Hypothesis states that:\n",
    "There is no significant difference in the risk of contracting pneumonia between vaccinated and unvaccinated employees."
   ]
  },
  {
   "cell_type": "raw",
   "id": "801fff13-080a-4686-9d26-4874ed09209e",
   "metadata": {},
   "source": [
    "From the above analysis we can conclude:\n",
    "1) 42.5% of vaccinated employess contacted pneumonia\n",
    "2) 63.0% of unvaccinated employess contacted pneumonia\n",
    "3) Since the relative risk is less than 1,\n",
    "it suggest that vaccination reduces the risk of contracting pneumonia.\n",
    "4) Also Relative risk of 0.675 means that vaccinated employess are at 32.5% \n",
    "less risk of contractine pneumonia than unvaccinated employees.\n",
    "\n",
    "Hence, we can reject the Null Hypothesis and conclude that the \n",
    "vaccination has the Positive Effect of reducing risk of pneumonia."
   ]
  },
  {
   "cell_type": "markdown",
   "id": "e4477f29-0672-47f9-bca2-48bd1ebacc3d",
   "metadata": {},
   "source": [
    "Now lets calculate 95% convidence interval for both vaccinated and Unvaccinated groups"
   ]
  },
  {
   "cell_type": "code",
   "execution_count": 21,
   "id": "5a6bcfab-af6b-4e87-8fd2-58ef64c70cb7",
   "metadata": {},
   "outputs": [
    {
     "name": "stdout",
     "output_type": "stream",
     "text": [
      "Risk (Vaccinated): 0.4251969 \n",
      "Risk (Unvaccinated): 0.630137 \n",
      "Confidence Interval (Vaccinated): 0.339 0.511 \n",
      "Confidence Interval (Unvaccinated): 0.519 0.741 \n"
     ]
    }
   ],
   "source": [
    "calculate_ci <- function(successes, total, confidence_level = 0.95) {\n",
    "  p_hat <- successes / total\n",
    "  z <- qnorm((1 + confidence_level) / 2)\n",
    "  se <- sqrt(p_hat * (1 - p_hat) / total)\n",
    "  margin_of_error <- z * se\n",
    "  lower_bound <- p_hat - margin_of_error\n",
    "  upper_bound <- p_hat + margin_of_error\n",
    "  return(c(lower_bound, upper_bound))\n",
    "}\n",
    "ci_vaccinated <- calculate_ci(pneumonia_matrix\n",
    "[\"Sick with pneumonia\", \"Vaccinated\"],sum(pneumonia_matrix[, \"Vaccinated\"]))\n",
    "ci_unvaccinated <- calculate_ci(pneumonia_matrix\n",
    "[\"Sick with pneumonia\", \"Unvaccinated\"], sum(pneumonia_matrix[, \"Unvaccinated\"]))\n",
    "\n",
    "cat(\"Risk (Vaccinated):\", risk_vaccinated, \"\\n\")\n",
    "cat(\"Risk (Unvaccinated):\", risk_unvaccinated, \"\\n\")\n",
    "cat(\"Confidence Interval (Vaccinated):\", round(ci_vaccinated, 3), \"\\n\")\n",
    "cat(\"Confidence Interval (Unvaccinated):\", round(ci_unvaccinated, 3), \"\\n\")"
   ]
  },
  {
   "cell_type": "code",
   "execution_count": 22,
   "id": "1c37d2ec-6b19-4ddb-8719-ecb0f0fbc4c6",
   "metadata": {},
   "outputs": [
    {
     "data": {
      "image/png": "[encoded data removed]",
      "text/plain": [
       "plot without title"
      ]
     },
     "metadata": {
      "image/png": {
       "height": 420,
       "width": 420
      }
     },
     "output_type": "display_data"
    }
   ],
   "source": [
    "library(ggplot2)\n",
    "risks <- c(risk_vaccinated, risk_unvaccinated)\n",
    "conf_intervals <- data.frame(\n",
    "  lower = c(0.339, 0.519),\n",
    "  upper = c(0.511, 0.741) \n",
    ")\n",
    "names(risks) <- c(\"Vaccinated\", \"Unvaccinated\")\n",
    "rownames(conf_intervals) <- c(\"Vaccinated\", \"Unvaccinated\")\n",
    "\n",
    "data_for_plot <- data.frame(\n",
    "  group = c(\"Vaccinated\", \"Unvaccinated\"),\n",
    "  risk = risks,\n",
    "  lower = conf_intervals$lower,\n",
    "  upper = conf_intervals$upper\n",
    ")\n",
    "ggplot(data_for_plot, aes(x = group, y = risk)) +\n",
    "  geom_point(size = 3, color = \"blue\") +\n",
    "  geom_errorbar(aes(ymin = lower, ymax = upper), width = 0.2, color = \"black\") + \n",
    "  labs(title = \"Forest Plot: Risk of Pneumonia by Vaccination Status\", \n",
    "       x = \"Group\", y = \"Risk of Pneumonia\") +\n",
    "  theme_minimal() +\n",
    "  theme(axis.title.x = element_text(size = 12),\n",
    "        axis.title.y = element_text(size = 12))\n"
   ]
  },
  {
   "cell_type": "markdown",
   "id": "8e792157-3089-4311-b221-3936a2cf3a09",
   "metadata": {},
   "source": [
    "From the Above plot,\n",
    " We can see that C.I for vaccinated individual is 0.339 to 0.511 and for unvaccinated individual is from 0.591 to 0.741. Since C.I for both groups do not overlap, this suggest and significant difference in pneumonia risk between 2 groups.The analysis suggest that vaccination reduces the risk of contracting pneumonia."
   ]
  },
  {
   "cell_type": "code",
   "execution_count": 23,
   "id": "748bf01c-7cf1-48fe-8b9e-3a6297aebea7",
   "metadata": {},
   "outputs": [
    {
     "name": "stdout",
     "output_type": "stream",
     "text": [
      "Odds Ratio: 0.434 \n"
     ]
    }
   ],
   "source": [
    "a <- pneumonia_matrix[\"Sick with pneumonia\", \"Vaccinated\"]\n",
    "b <- pneumonia_matrix[\"Not sick\", \"Vaccinated\"]\n",
    "c <- pneumonia_matrix[\"Sick with pneumonia\", \"Unvaccinated\"]\n",
    "d <- pneumonia_matrix[\"Not sick\", \"Unvaccinated\"]\n",
    "\n",
    "odds_ratio <- (a / c) / (b / d)\n",
    "cat(\"Odds Ratio:\", round(odds_ratio, 3), \"\\n\")\n"
   ]
  },
  {
   "cell_type": "markdown",
   "id": "8190655e-a82d-4f74-a280-8201098ef21e",
   "metadata": {},
   "source": [
    "The Odds Ratio indicates that vaccinated individuls are 0.434 times as likely to contract pneumonia compared to unvaccinated prople"
   ]
  },
  {
   "cell_type": "markdown",
   "id": "e0665b08-39a5-40f6-a755-849c2cd2cfca",
   "metadata": {},
   "source": [
    "Conclusion:\n",
    "From the above Chi-sqaure, Relativerisk, 95% confidence inteval and odds ratio analysis, we can validate that vaccination reduces the risk of contracting pneumonia"
   ]
  },
  {
   "cell_type": "code",
   "execution_count": null,
   "id": "da88bca7-3696-4da6-924a-6a0c015a9ac2",
   "metadata": {},
   "outputs": [],
   "source": []
  }
 ],
 "metadata": {
  "kernelspec": {
   "display_name": "R",
   "language": "R",
   "name": "ir"
  },
  "language_info": {
   "codemirror_mode": "r",
   "file_extension": ".r",
   "mimetype": "text/x-r-source",
   "name": "R",
   "pygments_lexer": "r",
   "version": "4.3.3"
  }
 },
 "nbformat": 4,
 "nbformat_minor": 5
}
